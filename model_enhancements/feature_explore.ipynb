{
 "cells": [
  {
   "cell_type": "code",
   "execution_count": 1,
   "id": "791b7fb8",
   "metadata": {},
   "outputs": [],
   "source": [
    "import pandas as pd"
   ]
  },
  {
   "cell_type": "code",
   "execution_count": 5,
   "id": "77d1e7ac",
   "metadata": {},
   "outputs": [
    {
     "data": {
      "text/plain": [
       "bedrooms           int64\n",
       "bathrooms        float64\n",
       "sqft_living        int64\n",
       "sqft_lot           int64\n",
       "floors           float64\n",
       "waterfront         int64\n",
       "view               int64\n",
       "condition          int64\n",
       "grade              int64\n",
       "sqft_above         int64\n",
       "sqft_basement      int64\n",
       "yr_built           int64\n",
       "yr_renovated       int64\n",
       "zipcode            int64\n",
       "lat              float64\n",
       "long             float64\n",
       "sqft_living15      int64\n",
       "sqft_lot15         int64\n",
       "dtype: object"
      ]
     },
     "execution_count": 5,
     "metadata": {},
     "output_type": "execute_result"
    }
   ],
   "source": [
    "df = pd.read_csv('C:/Users/david/Documents/phData/sound_realty/data/future_unseen_examples.csv')\n",
    "df.dtypes"
   ]
  },
  {
   "cell_type": "code",
   "execution_count": 12,
   "id": "e3a54575",
   "metadata": {},
   "outputs": [],
   "source": [
    "# Load demographic data\n",
    "DEMOGRAPHICS_DF = pd.read_csv(\"C:/Users/david/Documents/phData/sound_realty/data/zipcode_demographics.csv\")\n",
    "HOUSING_DF = pd.read_csv(\"C:/Users/david/Documents/phData/sound_realty/data/kc_house_data.csv\")\n",
    "\n",
    "# Columns from demographic data required for model prediction\n",
    "demographic_columns = [\"ppltn_qty\", \"urbn_ppltn_qty\", \"sbrbn_ppltn_qty\", \"farm_ppltn_qty\", \"non_farm_qty\", \"medn_hshld_incm_amt\", \n",
    "                       \"medn_incm_per_prsn_amt\", \"hous_val_amt\", \"edctn_less_than_9_qty\", \"edctn_9_12_qty\", \"edctn_high_schl_qty\", \n",
    "                       \"edctn_some_clg_qty\", \"edctn_assoc_dgre_qty\", \"edctn_bchlr_dgre_qty\", \"edctn_prfsnl_qty\", \"per_urbn\", \n",
    "                       \"per_sbrbn\", \"per_farm\", \"per_non_farm\", \"per_less_than_9\", \"per_9_to_12\", \"per_hsd\", \"per_some_clg\", \n",
    "                       \"per_assoc\", \"per_bchlr\", \"per_prfsnl\"]\n",
    "\n",
    "\n",
    "enriched_data = pd.merge(HOUSING_DF, DEMOGRAPHICS_DF, on='zipcode', how='left')\n",
    "sub_df = enriched_data[[\"bedrooms\", \"bathrooms\", \"sqft_living\", \"sqft_lot\", \"floors\", \"sqft_above\", \"sqft_basement\", \n",
    "                      \"ppltn_qty\", \"urbn_ppltn_qty\", \"sbrbn_ppltn_qty\", \"farm_ppltn_qty\", \"non_farm_qty\", \n",
    "                      \"medn_hshld_incm_amt\", \"medn_incm_per_prsn_amt\", \"hous_val_amt\", \"edctn_less_than_9_qty\", \n",
    "                      \"edctn_9_12_qty\", \"edctn_high_schl_qty\", \"edctn_some_clg_qty\", \"edctn_assoc_dgre_qty\", \n",
    "                      \"edctn_bchlr_dgre_qty\", \"edctn_prfsnl_qty\", \"per_urbn\", \"per_sbrbn\", \"per_farm\", \"per_non_farm\", \n",
    "                      \"per_less_than_9\", \"per_9_to_12\", \"per_hsd\", \"per_some_clg\", \"per_assoc\", \"per_bchlr\", \"per_prfsnl\"]]"
   ]
  },
  {
   "cell_type": "code",
   "execution_count": 15,
   "id": "ed522a7b",
   "metadata": {},
   "outputs": [
    {
     "data": {
      "text/plain": [
       "bedrooms                    int64\n",
       "bathrooms                 float64\n",
       "sqft_living                 int64\n",
       "sqft_lot                    int64\n",
       "floors                    float64\n",
       "sqft_above                  int64\n",
       "sqft_basement               int64\n",
       "ppltn_qty                 float64\n",
       "urbn_ppltn_qty            float64\n",
       "sbrbn_ppltn_qty           float64\n",
       "farm_ppltn_qty            float64\n",
       "non_farm_qty              float64\n",
       "medn_hshld_incm_amt       float64\n",
       "medn_incm_per_prsn_amt    float64\n",
       "hous_val_amt              float64\n",
       "edctn_less_than_9_qty     float64\n",
       "edctn_9_12_qty            float64\n",
       "edctn_high_schl_qty       float64\n",
       "edctn_some_clg_qty        float64\n",
       "edctn_assoc_dgre_qty      float64\n",
       "edctn_bchlr_dgre_qty      float64\n",
       "edctn_prfsnl_qty          float64\n",
       "per_urbn                  float64\n",
       "per_sbrbn                 float64\n",
       "per_farm                  float64\n",
       "per_non_farm              float64\n",
       "per_less_than_9           float64\n",
       "per_9_to_12               float64\n",
       "per_hsd                   float64\n",
       "per_some_clg              float64\n",
       "per_assoc                 float64\n",
       "per_bchlr                 float64\n",
       "per_prfsnl                float64\n",
       "dtype: object"
      ]
     },
     "execution_count": 15,
     "metadata": {},
     "output_type": "execute_result"
    }
   ],
   "source": [
    "sub_df.dtypes"
   ]
  },
  {
   "cell_type": "code",
   "execution_count": null,
   "id": "e91c1584",
   "metadata": {},
   "outputs": [],
   "source": []
  }
 ],
 "metadata": {
  "kernelspec": {
   "display_name": "Python 3 (ipykernel)",
   "language": "python",
   "name": "python3"
  },
  "language_info": {
   "codemirror_mode": {
    "name": "ipython",
    "version": 3
   },
   "file_extension": ".py",
   "mimetype": "text/x-python",
   "name": "python",
   "nbconvert_exporter": "python",
   "pygments_lexer": "ipython3",
   "version": "3.7.16"
  }
 },
 "nbformat": 4,
 "nbformat_minor": 5
}
